{
 "cells": [
  {
   "cell_type": "code",
   "execution_count": null,
   "id": "ca9c8369",
   "metadata": {},
   "outputs": [],
   "source": [
    "#Sum of digtis using For Loop\n",
    "num=input(\"Enter a number : \")\n",
    "digitSum=0\n",
    "\n",
    "for digit in num:\n",
    "    digitSum +=  int(digit)\n",
    "    \n",
    "print(digitSum)"
   ]
  },
  {
   "cell_type": "code",
   "execution_count": 10,
   "id": "687a1823",
   "metadata": {},
   "outputs": [
    {
     "name": "stdout",
     "output_type": "stream",
     "text": [
      "Enter a number : 12334\n",
      "1233\n",
      "4\n",
      "Sum of digits for number 12334 is 13\n"
     ]
    }
   ],
   "source": [
    "#Sum of digtis using While loop\n",
    "num=input(\"Enter a number : \")\n",
    "n=int(num)\n",
    "digitSum=0\n",
    "print(n//10)\n",
    "print(n%10)\n",
    "\n",
    "while n:\n",
    "    digitSum += n%10\n",
    "    n = n//10\n",
    "    \n",
    "print (\"Sum of digits for number %s is %d\" %(num,digitSum))"
   ]
  },
  {
   "cell_type": "code",
   "execution_count": null,
   "id": "60d5b62b",
   "metadata": {},
   "outputs": [],
   "source": []
  }
 ],
 "metadata": {
  "kernelspec": {
   "display_name": "Python 3 (ipykernel)",
   "language": "python",
   "name": "python3"
  },
  "language_info": {
   "codemirror_mode": {
    "name": "ipython",
    "version": 3
   },
   "file_extension": ".py",
   "mimetype": "text/x-python",
   "name": "python",
   "nbconvert_exporter": "python",
   "pygments_lexer": "ipython3",
   "version": "3.10.9"
  }
 },
 "nbformat": 4,
 "nbformat_minor": 5
}
