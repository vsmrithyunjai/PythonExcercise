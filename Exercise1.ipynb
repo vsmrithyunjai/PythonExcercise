{
 "cells": [
  {
   "cell_type": "code",
   "execution_count": null,
   "id": "8c59f1b9",
   "metadata": {},
   "outputs": [],
   "source": [
    "#Sum of digtis using For Loop\n",
    "num=input(\"Enter a number : \")\n",
    "digitSum=0\n",
    "\n",
    "for digit in num:\n",
    "    digitSum +=  int(digit)\n",
    "    \n",
    "print(digitSum)"
   ]
  },
  {
   "cell_type": "code",
   "execution_count": 10,
   "id": "26b9a9fc",
   "metadata": {},
   "outputs": [
    {
     "name": "stdout",
     "output_type": "stream",
     "text": [
      "Enter a number : 12334\n",
      "1233\n",
      "4\n",
      "Sum of digits for number 12334 is 13\n"
     ]
    }
   ],
   "source": [
    "#Sum of digtis using While loop\n",
    "num=input(\"Enter a number : \")\n",
    "n=int(num)\n",
    "digitSum=0\n",
    "print(n//10)\n",
    "print(n%10)\n",
    "\n",
    "while n:\n",
    "    digitSum += n%10\n",
    "    n = n//10\n",
    "    \n",
    "print (\"Sum of digits for number %s is %d\" %(num,digitSum))"
   ]
  },
  {
   "cell_type": "code",
   "execution_count": 12,
   "id": "d53dc258",
   "metadata": {},
   "outputs": [
    {
     "name": "stdout",
     "output_type": "stream",
     "text": [
      "Enter a number : 2\n",
      "8\n"
     ]
    }
   ],
   "source": [
    "num=input(\"Enter a number : \")\n",
    "n = int(num)\n",
    "print(n**3)"
   ]
  },
  {
   "cell_type": "code",
   "execution_count": 17,
   "id": "a342daa5",
   "metadata": {},
   "outputs": [
    {
     "name": "stdout",
     "output_type": "stream",
     "text": [
      "Enter a number : 123\n",
      "123 is not an Armstrong number\n"
     ]
    }
   ],
   "source": [
    "#Find Armstrong number using For Loop\n",
    "num=input(\"Enter a number : \")\n",
    "Sum=0\n",
    "\n",
    "for digit in num:\n",
    "    Sum +=  int(digit)**3\n",
    "\n",
    "if Sum == int(num):\n",
    "    print(\"%s is an Armstrong number\" % (num))\n",
    "else:\n",
    "    print(\"%s is not an Armstrong number\" % (num))\n",
    "    "
   ]
  },
  {
   "cell_type": "code",
   "execution_count": 19,
   "id": "4ad265ce",
   "metadata": {},
   "outputs": [
    {
     "name": "stdout",
     "output_type": "stream",
     "text": [
      "Enter a number : 123\n",
      "123 is not an Armstrong number\n"
     ]
    }
   ],
   "source": [
    "#Find Armstrong number using For Loop\n",
    "num=input(\"Enter a number : \")\n",
    "n=int(num)\n",
    "Sum=0\n",
    "while n:\n",
    "    Sum += ((n % 10)**3)\n",
    "    n = n//10\n",
    "\n",
    "if Sum == int(num):\n",
    "    print(\"%s is an Armstrong number\" % (num))\n",
    "else:\n",
    "    print(\"%s is not an Armstrong number\" % (num))\n"
   ]
  },
  {
   "cell_type": "code",
   "execution_count": null,
   "id": "64e54ce9",
   "metadata": {},
   "outputs": [],
   "source": []
  }
 ],
 "metadata": {
  "kernelspec": {
   "display_name": "Python 3 (ipykernel)",
   "language": "python",
   "name": "python3"
  },
  "language_info": {
   "codemirror_mode": {
    "name": "ipython",
    "version": 3
   },
   "file_extension": ".py",
   "mimetype": "text/x-python",
   "name": "python",
   "nbconvert_exporter": "python",
   "pygments_lexer": "ipython3",
   "version": "3.10.9"
  }
 },
 "nbformat": 4,
 "nbformat_minor": 5
}
